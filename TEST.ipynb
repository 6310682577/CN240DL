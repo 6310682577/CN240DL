{
 "cells": [
  {
   "cell_type": "code",
   "execution_count": 171,
   "metadata": {},
   "outputs": [],
   "source": [
    "# Data visualization\n",
    "import matplotlib.pyplot as plt\n",
    "import seaborn as sns\n",
    "import numpy as np\n",
    "import pandas as pd \n",
    "import seaborn as sns\n",
    "# Keras\n",
    "from keras.models import Sequential\n",
    "from keras.layers import Dense, Dropout\n",
    "from tensorflow.keras.optimizers import SGD, Adam, Adadelta, RMSprop\n",
    "import keras.backend as K\n",
    "# Train-Test\n",
    "from sklearn.model_selection import train_test_split\n",
    "# Scaling data\n",
    "from sklearn.preprocessing import StandardScaler\n",
    "# Classification Report\n",
    "from sklearn.metrics import classification_report\n",
    "from keras.layers import Dense,Dropout,Flatten\n",
    "from sklearn.model_selection import train_test_split\n",
    "from sklearn.metrics import confusion_matrix\n",
    "from keras.utils.np_utils import to_categorical\n",
    "\n",
    "dftrain = pd.read_csv('coords_500_Resize.csv')\n",
    "dftest = pd.read_csv('coords_500_test_Resize.csv')\n",
    "\n",
    "dftrain_s = dftrain.sample(frac=1, random_state=1234)\n",
    "dftest_s = dftest.sample(frac=1, random_state=1234)\n",
    "\n",
    "# normal\n",
    "X_train = dftrain_s.drop(['name','class'], axis=1) # features\n",
    "y_train = dftrain_s['class'] # target value\n",
    "X_test = dftest_s.drop(['name','class'], axis=1) # features\n",
    "y_test = dftest_s['class']"
   ]
  },
  {
   "cell_type": "code",
   "execution_count": 55,
   "metadata": {},
   "outputs": [
    {
     "data": {
      "text/plain": [
       "array([3, 0, 2, ..., 3, 1, 7])"
      ]
     },
     "execution_count": 55,
     "metadata": {},
     "output_type": "execute_result"
    }
   ],
   "source": [
    "from sklearn.preprocessing import LabelEncoder\n",
    "import numpy as np\n",
    "\n",
    "label_encoder = LabelEncoder()\n",
    "vec = label_encoder.fit_transform(y_train)"
   ]
  },
  {
   "cell_type": "code",
   "execution_count": 94,
   "metadata": {},
   "outputs": [],
   "source": [
    "Y = to_categorical(vec, num_classes=8)"
   ]
  },
  {
   "cell_type": "code",
   "execution_count": 95,
   "metadata": {},
   "outputs": [],
   "source": [
    "yec = label_encoder.fit_transform(y_test)\n",
    "Ytest = to_categorical(yec, num_classes=8)"
   ]
  },
  {
   "cell_type": "code",
   "execution_count": 182,
   "metadata": {},
   "outputs": [
    {
     "name": "stdout",
     "output_type": "stream",
     "text": [
      "Epoch 1/100\n",
      "134/134 [==============================] - 2s 9ms/step - loss: 2.0556 - accuracy: 0.1593 - val_loss: 1.9559 - val_accuracy: 0.2252\n",
      "Epoch 2/100\n",
      "134/134 [==============================] - 1s 7ms/step - loss: 1.8271 - accuracy: 0.2668 - val_loss: 1.6652 - val_accuracy: 0.3395\n",
      "Epoch 3/100\n",
      "134/134 [==============================] - 1s 7ms/step - loss: 1.7339 - accuracy: 0.3158 - val_loss: 1.6930 - val_accuracy: 0.3514\n",
      "Epoch 4/100\n",
      "134/134 [==============================] - 1s 7ms/step - loss: 1.6302 - accuracy: 0.3656 - val_loss: 1.6340 - val_accuracy: 0.3523\n",
      "Epoch 5/100\n",
      "134/134 [==============================] - 1s 8ms/step - loss: 1.5895 - accuracy: 0.3782 - val_loss: 1.4998 - val_accuracy: 0.4135\n",
      "Epoch 6/100\n",
      "134/134 [==============================] - 1s 8ms/step - loss: 1.5393 - accuracy: 0.4041 - val_loss: 1.6254 - val_accuracy: 0.3736\n",
      "Epoch 7/100\n",
      "134/134 [==============================] - 1s 7ms/step - loss: 1.4843 - accuracy: 0.4188 - val_loss: 1.5180 - val_accuracy: 0.4021\n",
      "Epoch 8/100\n",
      "134/134 [==============================] - 1s 8ms/step - loss: 1.4655 - accuracy: 0.4370 - val_loss: 1.4247 - val_accuracy: 0.4490\n",
      "Epoch 9/100\n",
      "134/134 [==============================] - 1s 7ms/step - loss: 1.4440 - accuracy: 0.4443 - val_loss: 1.5230 - val_accuracy: 0.4239\n",
      "Epoch 10/100\n",
      "134/134 [==============================] - 1s 7ms/step - loss: 1.4396 - accuracy: 0.4415 - val_loss: 1.4195 - val_accuracy: 0.4490\n",
      "Epoch 11/100\n",
      "134/134 [==============================] - 1s 7ms/step - loss: 1.4988 - accuracy: 0.4174 - val_loss: 1.4836 - val_accuracy: 0.4168\n",
      "Epoch 12/100\n",
      "134/134 [==============================] - 1s 7ms/step - loss: 1.4006 - accuracy: 0.4639 - val_loss: 1.4021 - val_accuracy: 0.4590\n",
      "Epoch 13/100\n",
      "134/134 [==============================] - 1s 7ms/step - loss: 1.4017 - accuracy: 0.4445 - val_loss: 1.3637 - val_accuracy: 0.4718\n",
      "Epoch 14/100\n",
      "134/134 [==============================] - 1s 7ms/step - loss: 1.3698 - accuracy: 0.4569 - val_loss: 1.5372 - val_accuracy: 0.4054\n",
      "Epoch 15/100\n",
      "134/134 [==============================] - 1s 8ms/step - loss: 1.4011 - accuracy: 0.4543 - val_loss: 1.3622 - val_accuracy: 0.4789\n",
      "Epoch 16/100\n",
      "134/134 [==============================] - 1s 8ms/step - loss: 1.3846 - accuracy: 0.4590 - val_loss: 1.4437 - val_accuracy: 0.4429\n",
      "Epoch 17/100\n",
      "134/134 [==============================] - 1s 8ms/step - loss: 1.3660 - accuracy: 0.4667 - val_loss: 1.3849 - val_accuracy: 0.4675\n",
      "Epoch 18/100\n",
      "134/134 [==============================] - 1s 9ms/step - loss: 1.3649 - accuracy: 0.4618 - val_loss: 1.3856 - val_accuracy: 0.4542\n",
      "Epoch 19/100\n",
      "134/134 [==============================] - 1s 8ms/step - loss: 1.3761 - accuracy: 0.4655 - val_loss: 1.4149 - val_accuracy: 0.4500\n",
      "Epoch 20/100\n",
      "134/134 [==============================] - 1s 8ms/step - loss: 1.3155 - accuracy: 0.4922 - val_loss: 1.3304 - val_accuracy: 0.4851\n",
      "Epoch 21/100\n",
      "134/134 [==============================] - 1s 8ms/step - loss: 1.3112 - accuracy: 0.4901 - val_loss: 1.3947 - val_accuracy: 0.4699\n",
      "Epoch 22/100\n",
      "134/134 [==============================] - 1s 7ms/step - loss: 1.3313 - accuracy: 0.4761 - val_loss: 1.3703 - val_accuracy: 0.4808\n",
      "Epoch 23/100\n",
      "134/134 [==============================] - 1s 7ms/step - loss: 1.3053 - accuracy: 0.4926 - val_loss: 1.3807 - val_accuracy: 0.4746\n",
      "Epoch 24/100\n",
      "134/134 [==============================] - 1s 7ms/step - loss: 1.3332 - accuracy: 0.4758 - val_loss: 1.4155 - val_accuracy: 0.4604\n",
      "Epoch 25/100\n",
      "134/134 [==============================] - 1s 7ms/step - loss: 1.3060 - accuracy: 0.4854 - val_loss: 1.3550 - val_accuracy: 0.4855\n",
      "Epoch 26/100\n",
      "134/134 [==============================] - 1s 7ms/step - loss: 1.2885 - accuracy: 0.4908 - val_loss: 1.3611 - val_accuracy: 0.4870\n",
      "Epoch 27/100\n",
      "134/134 [==============================] - 1s 7ms/step - loss: 1.2948 - accuracy: 0.4975 - val_loss: 1.4288 - val_accuracy: 0.4519\n",
      "Epoch 28/100\n",
      "134/134 [==============================] - 1s 7ms/step - loss: 1.2789 - accuracy: 0.5048 - val_loss: 1.3565 - val_accuracy: 0.4675\n",
      "Epoch 29/100\n",
      "134/134 [==============================] - 1s 7ms/step - loss: 1.2663 - accuracy: 0.5095 - val_loss: 1.2789 - val_accuracy: 0.5055\n",
      "Epoch 30/100\n",
      "134/134 [==============================] - 1s 7ms/step - loss: 1.2853 - accuracy: 0.5048 - val_loss: 1.3124 - val_accuracy: 0.4983\n",
      "Epoch 31/100\n",
      "134/134 [==============================] - 1s 8ms/step - loss: 1.2623 - accuracy: 0.5064 - val_loss: 1.2846 - val_accuracy: 0.4884\n",
      "Epoch 32/100\n",
      "134/134 [==============================] - 1s 8ms/step - loss: 1.2244 - accuracy: 0.5331 - val_loss: 1.2511 - val_accuracy: 0.5164\n",
      "Epoch 33/100\n",
      "134/134 [==============================] - 1s 8ms/step - loss: 1.2515 - accuracy: 0.5144 - val_loss: 1.3261 - val_accuracy: 0.4889\n",
      "Epoch 34/100\n",
      "134/134 [==============================] - 1s 7ms/step - loss: 1.2623 - accuracy: 0.5062 - val_loss: 1.3247 - val_accuracy: 0.4836\n",
      "Epoch 35/100\n",
      "134/134 [==============================] - 1s 9ms/step - loss: 1.2346 - accuracy: 0.5162 - val_loss: 1.3314 - val_accuracy: 0.4817\n",
      "Epoch 36/100\n",
      "134/134 [==============================] - 1s 8ms/step - loss: 1.2367 - accuracy: 0.5221 - val_loss: 1.3020 - val_accuracy: 0.5069\n",
      "Epoch 37/100\n",
      "134/134 [==============================] - 1s 7ms/step - loss: 1.2197 - accuracy: 0.5239 - val_loss: 1.2230 - val_accuracy: 0.5420\n",
      "Epoch 38/100\n",
      "134/134 [==============================] - 1s 8ms/step - loss: 1.2453 - accuracy: 0.5158 - val_loss: 1.2581 - val_accuracy: 0.5249\n",
      "Epoch 39/100\n",
      "134/134 [==============================] - 1s 8ms/step - loss: 1.2095 - accuracy: 0.5291 - val_loss: 1.3026 - val_accuracy: 0.5102\n",
      "Epoch 40/100\n",
      "134/134 [==============================] - 1s 8ms/step - loss: 1.2183 - accuracy: 0.5265 - val_loss: 1.2398 - val_accuracy: 0.5287\n",
      "Epoch 41/100\n",
      "134/134 [==============================] - 1s 8ms/step - loss: 1.1877 - accuracy: 0.5412 - val_loss: 1.4020 - val_accuracy: 0.4656\n",
      "Epoch 42/100\n",
      "134/134 [==============================] - 1s 8ms/step - loss: 1.2278 - accuracy: 0.5200 - val_loss: 1.4093 - val_accuracy: 0.4637\n",
      "Epoch 43/100\n",
      "134/134 [==============================] - 1s 7ms/step - loss: 1.1915 - accuracy: 0.5345 - val_loss: 1.2306 - val_accuracy: 0.5396\n",
      "Epoch 44/100\n",
      "134/134 [==============================] - 1s 8ms/step - loss: 1.1756 - accuracy: 0.5389 - val_loss: 1.2417 - val_accuracy: 0.5206\n",
      "Epoch 45/100\n",
      "134/134 [==============================] - 1s 8ms/step - loss: 1.1981 - accuracy: 0.5347 - val_loss: 1.3490 - val_accuracy: 0.4974\n",
      "Epoch 46/100\n",
      "134/134 [==============================] - 1s 8ms/step - loss: 1.1710 - accuracy: 0.5424 - val_loss: 1.3332 - val_accuracy: 0.4955\n",
      "Epoch 47/100\n",
      "134/134 [==============================] - 1s 7ms/step - loss: 1.1637 - accuracy: 0.5503 - val_loss: 1.2985 - val_accuracy: 0.5159\n",
      "Epoch 48/100\n",
      "134/134 [==============================] - 1s 7ms/step - loss: 1.1389 - accuracy: 0.5587 - val_loss: 1.2246 - val_accuracy: 0.5249\n",
      "Epoch 49/100\n",
      "134/134 [==============================] - 1s 7ms/step - loss: 1.1451 - accuracy: 0.5520 - val_loss: 1.2452 - val_accuracy: 0.5258\n",
      "Epoch 50/100\n",
      "134/134 [==============================] - 1s 7ms/step - loss: 1.1427 - accuracy: 0.5501 - val_loss: 1.2260 - val_accuracy: 0.5377\n",
      "Epoch 51/100\n",
      "134/134 [==============================] - 1s 8ms/step - loss: 1.1220 - accuracy: 0.5569 - val_loss: 1.2507 - val_accuracy: 0.5320\n",
      "Epoch 52/100\n",
      "134/134 [==============================] - 1s 8ms/step - loss: 1.1448 - accuracy: 0.5545 - val_loss: 1.2412 - val_accuracy: 0.5277\n",
      "Epoch 53/100\n",
      "134/134 [==============================] - 1s 8ms/step - loss: 1.1125 - accuracy: 0.5683 - val_loss: 1.3998 - val_accuracy: 0.4737\n",
      "Epoch 54/100\n",
      "134/134 [==============================] - 1s 8ms/step - loss: 1.1478 - accuracy: 0.5415 - val_loss: 1.1705 - val_accuracy: 0.5586\n",
      "Epoch 55/100\n",
      "134/134 [==============================] - 1s 8ms/step - loss: 1.0925 - accuracy: 0.5749 - val_loss: 1.1818 - val_accuracy: 0.5567\n",
      "Epoch 56/100\n",
      "134/134 [==============================] - 1s 8ms/step - loss: 1.0929 - accuracy: 0.5763 - val_loss: 1.2331 - val_accuracy: 0.5467\n",
      "Epoch 57/100\n",
      "134/134 [==============================] - 1s 9ms/step - loss: 1.0887 - accuracy: 0.5737 - val_loss: 1.2288 - val_accuracy: 0.5344\n",
      "Epoch 58/100\n",
      "134/134 [==============================] - 1s 8ms/step - loss: 1.1307 - accuracy: 0.5700 - val_loss: 1.2791 - val_accuracy: 0.5230\n",
      "Epoch 59/100\n",
      "134/134 [==============================] - 1s 7ms/step - loss: 1.1050 - accuracy: 0.5672 - val_loss: 1.2324 - val_accuracy: 0.5339\n",
      "Epoch 60/100\n",
      "134/134 [==============================] - 1s 9ms/step - loss: 1.0823 - accuracy: 0.5814 - val_loss: 1.1945 - val_accuracy: 0.5590\n",
      "Epoch 61/100\n",
      "134/134 [==============================] - 1s 8ms/step - loss: 1.0509 - accuracy: 0.5793 - val_loss: 1.2399 - val_accuracy: 0.5268\n",
      "Epoch 62/100\n",
      "134/134 [==============================] - 1s 7ms/step - loss: 1.0450 - accuracy: 0.5858 - val_loss: 1.1932 - val_accuracy: 0.5567\n",
      "Epoch 63/100\n",
      "134/134 [==============================] - 1s 8ms/step - loss: 1.0580 - accuracy: 0.5786 - val_loss: 1.2868 - val_accuracy: 0.5206\n",
      "Epoch 64/100\n",
      "134/134 [==============================] - 1s 8ms/step - loss: 1.0041 - accuracy: 0.6027 - val_loss: 1.1989 - val_accuracy: 0.5500\n",
      "Epoch 65/100\n",
      "134/134 [==============================] - 1s 8ms/step - loss: 1.0323 - accuracy: 0.5973 - val_loss: 1.2332 - val_accuracy: 0.5576\n",
      "Epoch 66/100\n",
      "134/134 [==============================] - 1s 7ms/step - loss: 1.0109 - accuracy: 0.6069 - val_loss: 1.2731 - val_accuracy: 0.5424\n",
      "Epoch 67/100\n",
      "134/134 [==============================] - 1s 7ms/step - loss: 1.0366 - accuracy: 0.5952 - val_loss: 1.1796 - val_accuracy: 0.5680\n",
      "Epoch 68/100\n",
      "134/134 [==============================] - 1s 7ms/step - loss: 0.9938 - accuracy: 0.6094 - val_loss: 1.2316 - val_accuracy: 0.5420\n",
      "Epoch 69/100\n",
      "134/134 [==============================] - 1s 7ms/step - loss: 0.9908 - accuracy: 0.6062 - val_loss: 1.4592 - val_accuracy: 0.4798\n",
      "Epoch 70/100\n",
      "134/134 [==============================] - 1s 7ms/step - loss: 0.9927 - accuracy: 0.6073 - val_loss: 1.2759 - val_accuracy: 0.5462\n",
      "Epoch 71/100\n",
      "134/134 [==============================] - 1s 7ms/step - loss: 0.9551 - accuracy: 0.6305 - val_loss: 1.1741 - val_accuracy: 0.5714\n",
      "Epoch 72/100\n",
      "134/134 [==============================] - 1s 8ms/step - loss: 0.9115 - accuracy: 0.6391 - val_loss: 1.3146 - val_accuracy: 0.5344\n",
      "Epoch 73/100\n",
      "134/134 [==============================] - 1s 8ms/step - loss: 0.9314 - accuracy: 0.6265 - val_loss: 1.1678 - val_accuracy: 0.5875\n",
      "Epoch 74/100\n",
      "134/134 [==============================] - 1s 8ms/step - loss: 0.9189 - accuracy: 0.6375 - val_loss: 1.1840 - val_accuracy: 0.5808\n",
      "Epoch 75/100\n",
      "134/134 [==============================] - 1s 8ms/step - loss: 0.9833 - accuracy: 0.6127 - val_loss: 1.2452 - val_accuracy: 0.5628\n",
      "Epoch 76/100\n",
      "134/134 [==============================] - 1s 8ms/step - loss: 0.9243 - accuracy: 0.6391 - val_loss: 1.2634 - val_accuracy: 0.5642\n",
      "Epoch 77/100\n",
      "134/134 [==============================] - 1s 8ms/step - loss: 0.8528 - accuracy: 0.6622 - val_loss: 1.1817 - val_accuracy: 0.5974\n",
      "Epoch 78/100\n",
      "134/134 [==============================] - 1s 8ms/step - loss: 0.9119 - accuracy: 0.6319 - val_loss: 1.3277 - val_accuracy: 0.5609\n",
      "Epoch 79/100\n",
      "134/134 [==============================] - 1s 8ms/step - loss: 0.8665 - accuracy: 0.6587 - val_loss: 1.1898 - val_accuracy: 0.5818\n",
      "Epoch 80/100\n",
      "134/134 [==============================] - 1s 8ms/step - loss: 0.8575 - accuracy: 0.6606 - val_loss: 1.2148 - val_accuracy: 0.5827\n",
      "Epoch 81/100\n",
      "134/134 [==============================] - 1s 7ms/step - loss: 0.8297 - accuracy: 0.6709 - val_loss: 1.2219 - val_accuracy: 0.5813\n",
      "Epoch 82/100\n",
      "134/134 [==============================] - 1s 7ms/step - loss: 0.8199 - accuracy: 0.6783 - val_loss: 1.3310 - val_accuracy: 0.5552\n",
      "Epoch 83/100\n",
      "134/134 [==============================] - 1s 8ms/step - loss: 0.7920 - accuracy: 0.6863 - val_loss: 1.2039 - val_accuracy: 0.5917\n",
      "Epoch 84/100\n",
      "134/134 [==============================] - 1s 9ms/step - loss: 0.7704 - accuracy: 0.7026 - val_loss: 1.1642 - val_accuracy: 0.6064\n",
      "Epoch 85/100\n",
      "134/134 [==============================] - 1s 7ms/step - loss: 0.7591 - accuracy: 0.7010 - val_loss: 1.1566 - val_accuracy: 0.6193\n",
      "Epoch 86/100\n",
      "134/134 [==============================] - 1s 7ms/step - loss: 0.8076 - accuracy: 0.6865 - val_loss: 1.3655 - val_accuracy: 0.5704\n",
      "Epoch 87/100\n",
      "134/134 [==============================] - 1s 8ms/step - loss: 0.7644 - accuracy: 0.6996 - val_loss: 1.3823 - val_accuracy: 0.5780\n",
      "Epoch 88/100\n",
      "134/134 [==============================] - 1s 8ms/step - loss: 0.7379 - accuracy: 0.7115 - val_loss: 1.2680 - val_accuracy: 0.6041\n",
      "Epoch 89/100\n",
      "134/134 [==============================] - 1s 8ms/step - loss: 0.7152 - accuracy: 0.7181 - val_loss: 1.2633 - val_accuracy: 0.6036\n",
      "Epoch 90/100\n",
      "134/134 [==============================] - 1s 8ms/step - loss: 0.7154 - accuracy: 0.7185 - val_loss: 1.2504 - val_accuracy: 0.6003\n",
      "Epoch 91/100\n",
      "134/134 [==============================] - 1s 8ms/step - loss: 0.7105 - accuracy: 0.7143 - val_loss: 1.2105 - val_accuracy: 0.6131\n",
      "Epoch 92/100\n",
      "134/134 [==============================] - 1s 7ms/step - loss: 0.6910 - accuracy: 0.7195 - val_loss: 1.2878 - val_accuracy: 0.6027\n",
      "Epoch 93/100\n",
      "134/134 [==============================] - 1s 8ms/step - loss: 0.6146 - accuracy: 0.7564 - val_loss: 1.3039 - val_accuracy: 0.5946\n",
      "Epoch 94/100\n",
      "134/134 [==============================] - 1s 8ms/step - loss: 0.6444 - accuracy: 0.7440 - val_loss: 1.2145 - val_accuracy: 0.6430\n",
      "Epoch 95/100\n",
      "134/134 [==============================] - 1s 8ms/step - loss: 0.7142 - accuracy: 0.7153 - val_loss: 1.3848 - val_accuracy: 0.5827\n",
      "Epoch 96/100\n",
      "134/134 [==============================] - 1s 7ms/step - loss: 0.6540 - accuracy: 0.7423 - val_loss: 1.1995 - val_accuracy: 0.6539\n",
      "Epoch 97/100\n",
      "134/134 [==============================] - 1s 8ms/step - loss: 0.5835 - accuracy: 0.7720 - val_loss: 1.3300 - val_accuracy: 0.6226\n",
      "Epoch 98/100\n",
      "134/134 [==============================] - 1s 8ms/step - loss: 0.6140 - accuracy: 0.7573 - val_loss: 1.3818 - val_accuracy: 0.6055\n",
      "Epoch 99/100\n",
      "134/134 [==============================] - 1s 7ms/step - loss: 0.5767 - accuracy: 0.7751 - val_loss: 1.3460 - val_accuracy: 0.6287\n",
      "Epoch 100/100\n",
      "134/134 [==============================] - 1s 8ms/step - loss: 0.5973 - accuracy: 0.7676 - val_loss: 1.3997 - val_accuracy: 0.6207\n"
     ]
    }
   ],
   "source": [
    "model = Sequential()\n",
    "model.add(Dense(2048, input_dim = X_train.shape[1], activation = 'relu')) # input layer requires input_dim param\n",
    "model.add(Dense(1024, activation = 'relu'))\n",
    "model.add(Dense(1024, activation = 'relu'))\n",
    "model.add(Dense(512, activation = 'relu'))\n",
    "model.add(Dense(128, activation = 'relu'))\n",
    "model.add(Dense(8, activation='softmax'))\n",
    "model.compile(loss=\"categorical_crossentropy\", optimizer= \"adam\", metrics=['accuracy'])\n",
    "\n",
    "history = model.fit(X_train, Y, validation_split=0.33, epochs = 100, batch_size=32, verbose=1)"
   ]
  },
  {
   "cell_type": "code",
   "execution_count": 183,
   "metadata": {},
   "outputs": [
    {
     "name": "stdout",
     "output_type": "stream",
     "text": [
      "Model: \"sequential_44\"\n",
      "_________________________________________________________________\n",
      " Layer (type)                Output Shape              Param #   \n",
      "=================================================================\n",
      " dense_184 (Dense)           (None, 2048)              3835904   \n",
      "                                                                 \n",
      " dense_185 (Dense)           (None, 1024)              2098176   \n",
      "                                                                 \n",
      " dense_186 (Dense)           (None, 1024)              1049600   \n",
      "                                                                 \n",
      " dense_187 (Dense)           (None, 512)               524800    \n",
      "                                                                 \n",
      " dense_188 (Dense)           (None, 128)               65664     \n",
      "                                                                 \n",
      " dense_189 (Dense)           (None, 8)                 1032      \n",
      "                                                                 \n",
      "=================================================================\n",
      "Total params: 7,575,176\n",
      "Trainable params: 7,575,176\n",
      "Non-trainable params: 0\n",
      "_________________________________________________________________\n"
     ]
    }
   ],
   "source": [
    "model.summary()"
   ]
  },
  {
   "cell_type": "code",
   "execution_count": 184,
   "metadata": {},
   "outputs": [],
   "source": [
    "y_pred_class = model.predict(X_test)\n",
    "pred_x = np.argmax(y_pred_class, axis=1)\n",
    "y_test_class = np.argmax(Ytest, axis=1)"
   ]
  },
  {
   "cell_type": "code",
   "execution_count": 85,
   "metadata": {},
   "outputs": [
    {
     "data": {
      "text/plain": [
       "array([5, 4, 7, 1, 7, 4, 5, 5, 6, 3, 3, 0, 2, 5, 0, 1, 3, 2, 5, 0, 4, 5,\n",
       "       4, 4, 7, 1, 4, 7, 5, 4, 5, 1, 5, 1, 2, 1, 4, 4, 5, 5, 0, 3, 5, 4,\n",
       "       0, 5, 2, 4, 1, 7, 5, 1, 5, 1, 5, 5, 6, 1, 1, 4, 5, 4, 1, 1, 1, 5,\n",
       "       7, 4, 2, 5, 4, 5, 1, 1, 0, 5, 3, 7, 4, 3, 1, 0, 5, 5, 5, 4, 1, 6,\n",
       "       0, 6, 0, 4, 5, 5, 1, 1, 5, 2, 3, 4, 5, 4, 7, 7, 6, 1, 5, 5, 5, 3,\n",
       "       2, 7, 0, 4, 4, 6, 6, 1, 7, 5, 6, 7, 7, 1, 1, 5, 1, 7, 5, 1, 4, 4,\n",
       "       1, 5, 5, 2, 1, 5, 1, 5, 0, 1, 1, 7, 1, 5, 1, 6, 1, 1, 1, 4, 6, 3,\n",
       "       2, 7, 6, 5, 5, 4, 7, 3, 5, 5, 5, 7, 1, 6, 5, 6, 1, 3, 3, 5, 1, 4,\n",
       "       7, 4, 5, 5, 0, 6, 1, 0, 1, 5, 3, 2, 1, 1, 5, 4, 1, 7, 2, 3, 7, 3,\n",
       "       5, 5, 1, 1, 5, 1, 1, 3, 5, 4, 5, 5, 3, 5, 2, 0, 7, 7, 7, 4, 4, 3,\n",
       "       5, 1, 6, 7, 3, 0, 4, 0, 4, 5, 5, 0, 5, 5, 5, 1, 2, 5, 1, 4, 1, 1,\n",
       "       1, 5, 3, 5, 1, 4, 7, 1, 7, 1, 1, 7, 7, 5, 2, 1, 3, 5, 3, 4, 0, 5,\n",
       "       5, 7, 0, 0, 5, 0, 0, 5, 5, 6, 5, 1, 3, 3, 1, 2, 7, 1, 4, 4, 7, 1,\n",
       "       7, 4, 3, 1, 5, 1, 1, 5, 4, 0, 5, 7, 1, 0, 7, 2, 3, 5, 4, 5, 5, 0,\n",
       "       5, 1, 5, 1, 1, 5, 6, 1, 0, 5, 1, 5, 3, 1, 7, 4, 7, 2, 7, 7, 3, 1,\n",
       "       1, 7, 5, 1, 5, 7, 5, 5, 0, 5, 1, 1, 5, 7, 1, 4, 1, 3, 5, 5, 1, 7,\n",
       "       5, 4, 1, 6, 7, 1, 1, 7, 7, 7, 0, 2, 4, 5, 5, 0, 1, 5, 4, 0, 1, 5,\n",
       "       1, 5, 5, 7, 5, 4, 3, 3, 0, 6, 4, 5, 1, 5, 3, 7, 4, 1, 5, 4, 6],\n",
       "      dtype=int64)"
      ]
     },
     "execution_count": 85,
     "metadata": {},
     "output_type": "execute_result"
    }
   ],
   "source": [
    "pred_x"
   ]
  },
  {
   "cell_type": "code",
   "execution_count": 185,
   "metadata": {},
   "outputs": [
    {
     "data": {
      "image/png": "[encoded data removed]",
      "text/plain": [
       "<Figure size 432x288 with 2 Axes>"
      ]
     },
     "metadata": {},
     "output_type": "display_data"
    }
   ],
   "source": [
    "from sklearn.metrics import confusion_matrix\n",
    "classlist = ['Anger', 'Contempt', 'Disgust', 'Fear', 'Happiness', 'Neutral', 'Sadness', 'Surprise']\n",
    "P_classlist = ['Anger', 'Contempt', 'Disgust', 'Fear', 'Happiness', 'Neutral', 'Sadness', 'Surprise']\n",
    "cm = confusion_matrix(y_test_class, pred_x)\n",
    "\n",
    "df_cm = pd.DataFrame(cm, classlist, P_classlist) #(cm, range(8), range(8))\n",
    "sns.set(font_scale=1.4) # for label size\n",
    "sns.heatmap(df_cm, annot=True, annot_kws={\"size\": 16}) # font size\n",
    "\n",
    "plt.show()"
   ]
  },
  {
   "cell_type": "code",
   "execution_count": 186,
   "metadata": {},
   "outputs": [
    {
     "name": "stdout",
     "output_type": "stream",
     "text": [
      "              precision    recall  f1-score   support\n",
      "\n",
      "           0       0.23      0.16      0.19        50\n",
      "           1       0.48      0.79      0.60        47\n",
      "           2       0.38      0.22      0.28        50\n",
      "           3       0.44      0.38      0.41        50\n",
      "           4       0.65      0.85      0.74        48\n",
      "           5       0.33      0.54      0.41        50\n",
      "           6       0.16      0.06      0.09        50\n",
      "           7       0.52      0.48      0.50        50\n",
      "\n",
      "    accuracy                           0.43       395\n",
      "   macro avg       0.40      0.44      0.40       395\n",
      "weighted avg       0.40      0.43      0.40       395\n",
      "\n"
     ]
    }
   ],
   "source": [
    "from sklearn.metrics import classification_report\n",
    "print(classification_report(y_test_class, pred_x))"
   ]
  }
 ],
 "metadata": {
  "interpreter": {
   "hash": "cfcfbbd76e88e95dc35e2ca9edf0c1e882d0553cc29bc4cac8c0f4eabeb0ecb9"
  },
  "kernelspec": {
   "display_name": "Python 3.10.2 64-bit",
   "language": "python",
   "name": "python3"
  },
  "language_info": {
   "codemirror_mode": {
    "name": "ipython",
    "version": 3
   },
   "file_extension": ".py",
   "mimetype": "text/x-python",
   "name": "python",
   "nbconvert_exporter": "python",
   "pygments_lexer": "ipython3",
   "version": "3.10.2"
  },
  "orig_nbformat": 4
 },
 "nbformat": 4,
 "nbformat_minor": 2
}
